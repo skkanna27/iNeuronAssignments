{
 "cells": [
  {
   "cell_type": "markdown",
   "metadata": {},
   "source": [
    "CODE FOR QUESTION 1 :"
   ]
  },
  {
   "cell_type": "code",
   "execution_count": 1,
   "metadata": {},
   "outputs": [
    {
     "name": "stdout",
     "output_type": "stream",
     "text": [
      "Enter the length size of the shape: 5\n",
      "* \n",
      "* * \n",
      "* * * \n",
      "* * * * \n",
      "* * * * * \n",
      "* * * * \n",
      "* * * \n",
      "* * \n",
      "* \n",
      "\n"
     ]
    }
   ],
   "source": [
    "user_input = int(input('Enter the length size of the shape: '))\n",
    "for i in range(user_input*2 - 1):\n",
    "    if i<user_input-1:\n",
    "        for j in range(i+1):\n",
    "            print('*',end = ' ')\n",
    "        print()\n",
    "    elif i==(user_input-1):\n",
    "        for j in range(user_input):\n",
    "            print('*',end =' ')\n",
    "        print()\n",
    "for i in sorted(list(range(user_input)), reverse = True):\n",
    "    for j in range(i):\n",
    "        print('*', end = ' ')\n",
    "    print()"
   ]
  },
  {
   "cell_type": "markdown",
   "metadata": {},
   "source": [
    "CODE FOR Question 2 :"
   ]
  },
  {
   "cell_type": "code",
   "execution_count": 2,
   "metadata": {},
   "outputs": [
    {
     "name": "stdout",
     "output_type": "stream",
     "text": [
      "Enter a word: Pablo Escobar\n",
      "Input Word: Pablo Escobar\n",
      "Output : rabocsE olbaP\n"
     ]
    }
   ],
   "source": [
    "user_word = input('Enter a word: ')\n",
    "print('Input Word: {}'.format(user_word))\n",
    "print('Output : {}'.format(user_word[::-1]))"
   ]
  },
  {
   "cell_type": "code",
   "execution_count": null,
   "metadata": {},
   "outputs": [],
   "source": []
  }
 ],
 "metadata": {
  "kernelspec": {
   "display_name": "Python 3",
   "language": "python",
   "name": "python3"
  },
  "language_info": {
   "codemirror_mode": {
    "name": "ipython",
    "version": 3
   },
   "file_extension": ".py",
   "mimetype": "text/x-python",
   "name": "python",
   "nbconvert_exporter": "python",
   "pygments_lexer": "ipython3",
   "version": "3.8.5"
  }
 },
 "nbformat": 4,
 "nbformat_minor": 4
}
